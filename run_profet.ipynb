{
 "cells": [
  {
   "cell_type": "markdown",
   "metadata": {},
   "source": [
    "## Running profet\n",
    "\n",
    "Example notebook to run profet using python commands."
   ]
  },
  {
   "cell_type": "code",
   "execution_count": 1,
   "metadata": {},
   "outputs": [
    {
     "ename": "ModuleNotFoundError",
     "evalue": "No module named 'requests_html'",
     "output_type": "error",
     "traceback": [
      "\u001b[0;31m---------------------------------------------------------------------------\u001b[0m",
      "\u001b[0;31mModuleNotFoundError\u001b[0m                       Traceback (most recent call last)",
      "Cell \u001b[0;32mIn[1], line 1\u001b[0m\n\u001b[0;32m----> 1\u001b[0m \u001b[38;5;28;01mimport\u001b[39;00m \u001b[38;5;21;01mprofet\u001b[39;00m\n\u001b[1;32m      3\u001b[0m ONLY_ALPHAFOLD \u001b[38;5;241m=\u001b[39m \u001b[38;5;124m\"\u001b[39m\u001b[38;5;124mF4HvG8\u001b[39m\u001b[38;5;124m\"\u001b[39m\n\u001b[1;32m      4\u001b[0m ONLY_PDB \u001b[38;5;241m=\u001b[39m \u001b[38;5;124m\"\u001b[39m\u001b[38;5;124m7U6Q\u001b[39m\u001b[38;5;124m\"\u001b[39m\n",
      "File \u001b[0;32m~/Software/profet/profet/__init__.py:6\u001b[0m\n\u001b[1;32m      3\u001b[0m \u001b[38;5;28;01mexcept\u001b[39;00m \u001b[38;5;167;01mImportError\u001b[39;00m:\n\u001b[1;32m      4\u001b[0m     __version__ \u001b[38;5;241m=\u001b[39m \u001b[38;5;124m\"\u001b[39m\u001b[38;5;124munknown\u001b[39m\u001b[38;5;124m\"\u001b[39m\n\u001b[0;32m----> 6\u001b[0m \u001b[38;5;28;01mfrom\u001b[39;00m \u001b[38;5;21;01m.\u001b[39;00m\u001b[38;5;21;01mprofet\u001b[39;00m \u001b[38;5;28;01mimport\u001b[39;00m Fetcher\n",
      "File \u001b[0;32m~/Software/profet/profet/profet.py:1\u001b[0m\n\u001b[0;32m----> 1\u001b[0m \u001b[38;5;28;01mfrom\u001b[39;00m \u001b[38;5;21;01m.\u001b[39;00m\u001b[38;5;21;01malphafold\u001b[39;00m \u001b[38;5;28;01mimport\u001b[39;00m Alphafold_DB\n\u001b[1;32m      2\u001b[0m \u001b[38;5;28;01mfrom\u001b[39;00m \u001b[38;5;21;01m.\u001b[39;00m\u001b[38;5;21;01mpdb\u001b[39;00m \u001b[38;5;28;01mimport\u001b[39;00m PDB_DB\n\u001b[1;32m      3\u001b[0m \u001b[38;5;28;01mfrom\u001b[39;00m \u001b[38;5;21;01m.\u001b[39;00m\u001b[38;5;21;01mcache\u001b[39;00m \u001b[38;5;28;01mimport\u001b[39;00m PDBFileCache\n",
      "File \u001b[0;32m~/Software/profet/profet/alphafold.py:9\u001b[0m\n\u001b[1;32m      1\u001b[0m \u001b[38;5;124;03m\"\"\"https://alphafold.ebi.ac.uk/files/AF-F4HVG8-F1-model_v2.cif\u001b[39;00m\n\u001b[1;32m      2\u001b[0m \u001b[38;5;124;03mhttps://alphafold.ebi.ac.uk/files/AF-F4HVG8-F1-model_v2.pdb\u001b[39;00m\n\u001b[1;32m      3\u001b[0m \u001b[38;5;124;03mhttps://alphafold.ebi.ac.uk/files/AF-F4HVG8-F1-predicted_aligned_error_v2.json\u001b[39;00m\n\u001b[0;32m   (...)\u001b[0m\n\u001b[1;32m      6\u001b[0m \u001b[38;5;124;03mread entry: https://alphafold.ebi.ac.uk/entry/F4HVG8\u001b[39;00m\n\u001b[1;32m      7\u001b[0m \u001b[38;5;124;03mfind cif, download that file\"\"\"\u001b[39;00m\n\u001b[0;32m----> 9\u001b[0m \u001b[38;5;28;01mfrom\u001b[39;00m \u001b[38;5;21;01mrequests_html\u001b[39;00m \u001b[38;5;28;01mimport\u001b[39;00m HTMLSession\n\u001b[1;32m     10\u001b[0m \u001b[38;5;28;01mimport\u001b[39;00m \u001b[38;5;21;01mrequests\u001b[39;00m\n\u001b[1;32m     11\u001b[0m \u001b[38;5;28;01mfrom\u001b[39;00m \u001b[38;5;21;01mbs4\u001b[39;00m \u001b[38;5;28;01mimport\u001b[39;00m BeautifulSoup\n",
      "\u001b[0;31mModuleNotFoundError\u001b[0m: No module named 'requests_html'"
     ]
    }
   ],
   "source": [
    "import profet\n",
    "\n",
    "ONLY_ALPHAFOLD = \"F4HvG8\"\n",
    "ONLY_PDB = \"7U6Q\"\n",
    "BOTH = \"A0A023FDY8\""
   ]
  },
  {
   "cell_type": "markdown",
   "metadata": {},
   "source": [
    "Create a default fetcher, and check that the current default database is PDB. This means that, by default, the first search will be on the PDB. However, if the structure is not found, the search will then be executed on the AlphaFold database."
   ]
  },
  {
   "cell_type": "code",
   "execution_count": 4,
   "metadata": {},
   "outputs": [
    {
     "name": "stdout",
     "output_type": "stream",
     "text": [
      "Current default database:  pdb\n"
     ]
    }
   ],
   "source": [
    "fetcher = profet.Fetcher()\n",
    "print('Current default database: ', fetcher.get_default_db())"
   ]
  },
  {
   "cell_type": "markdown",
   "metadata": {},
   "source": [
    "For each of the proteins, check the availability, i.e., check which database has a file for the protein."
   ]
  },
  {
   "cell_type": "code",
   "execution_count": 13,
   "metadata": {},
   "outputs": [
    {
     "name": "stdout",
     "output_type": "stream",
     "text": [
      "Querying RCSB Search using the following parameters:\n",
      " {\"query\": {\"type\": \"terminal\", \"service\": \"full_text\", \"parameters\": {\"value\": \"F4HvG8\"}}, \"request_options\": {\"return_all_hits\": true}, \"return_type\": \"entry\"} \n",
      "\n",
      "Querying RCSB Search using the following parameters:\n",
      " {\"query\": {\"type\": \"terminal\", \"service\": \"full_text\", \"parameters\": {\"value\": \"7U6Q\"}}, \"request_options\": {\"return_all_hits\": true}, \"return_type\": \"entry\"} \n",
      "\n",
      "Querying RCSB Search using the following parameters:\n",
      " {\"query\": {\"type\": \"terminal\", \"service\": \"full_text\", \"parameters\": {\"value\": \"A0A023FDY8\"}}, \"request_options\": {\"return_all_hits\": true}, \"return_type\": \"entry\"} \n",
      "\n",
      "Database available for  F4HvG8  is  ['alphafold']\n",
      "Database available for  7U6Q  is  ['pdb']\n",
      "Databases available for  A0A023FDY8  are  ['pdb', 'alphafold']\n"
     ]
    }
   ],
   "source": [
    "available_only_AF = fetcher.check_db(ONLY_ALPHAFOLD)\n",
    "available_only_pdb = fetcher.check_db(ONLY_PDB)\n",
    "available_both = fetcher.check_db(BOTH)\n",
    "\n",
    "print('Database available for ', ONLY_ALPHAFOLD, ' is ', available_only_AF)\n",
    "print('Database available for ', ONLY_PDB, ' is ', available_only_pdb)\n",
    "print('Databases available for ', BOTH, ' are ', available_both)"
   ]
  },
  {
   "cell_type": "markdown",
   "metadata": {},
   "source": [
    "To get the files, simply run the function `get_file`. "
   ]
  },
  {
   "cell_type": "code",
   "execution_count": 16,
   "metadata": {},
   "outputs": [
    {
     "name": "stdout",
     "output_type": "stream",
     "text": [
      "Querying RCSB Search using the following parameters:\n",
      " {\"query\": {\"type\": \"terminal\", \"service\": \"full_text\", \"parameters\": {\"value\": \"7U6Q\"}}, \"request_options\": {\"return_all_hits\": true}, \"return_type\": \"entry\"} \n",
      "\n",
      "Structure available on defaulted database: pdb\n",
      "Sending GET request to https://files.rcsb.org/download/7U6Q.pdb.gz to fetch 7U6Q's pdb file as a string.\n",
      "Querying RCSB Search using the following parameters:\n",
      " {\"query\": {\"type\": \"terminal\", \"service\": \"full_text\", \"parameters\": {\"value\": \"F4HvG8\"}}, \"request_options\": {\"return_all_hits\": true}, \"return_type\": \"entry\"} \n",
      "\n",
      "Structure available on alternative database: alphafold\n"
     ]
    }
   ],
   "source": [
    "PDB = fetcher.get_file(ONLY_PDB)\n",
    "AF = fetcher.get_file(ONLY_ALPHAFOLD)"
   ]
  },
  {
   "cell_type": "markdown",
   "metadata": {},
   "source": [
    "For cases where the file is available in both databases, the desired one can be specified:"
   ]
  },
  {
   "cell_type": "code",
   "execution_count": 21,
   "metadata": {},
   "outputs": [
    {
     "name": "stdout",
     "output_type": "stream",
     "text": [
      "Querying RCSB Search using the following parameters:\n",
      " {\"query\": {\"type\": \"terminal\", \"service\": \"full_text\", \"parameters\": {\"value\": \"A0A023FDY8\"}}, \"request_options\": {\"return_all_hits\": true}, \"return_type\": \"entry\"} \n",
      "\n",
      "Structure available on defaulted database: pdb\n",
      "Sending GET request to https://files.rcsb.org/download/7S4N.pdb.gz to fetch 7S4N's pdb file as a string.\n",
      "Querying RCSB Search using the following parameters:\n",
      " {\"query\": {\"type\": \"terminal\", \"service\": \"full_text\", \"parameters\": {\"value\": \"A0A023FDY8\"}}, \"request_options\": {\"return_all_hits\": true}, \"return_type\": \"entry\"} \n",
      "\n",
      "Structure available on defaulted database: alphafold\n"
     ]
    }
   ],
   "source": [
    "from_pdb = fetcher.get_file(BOTH)\n",
    "from_AF = fetcher.get_file(BOTH, db = 'alphafold')"
   ]
  },
  {
   "cell_type": "markdown",
   "metadata": {},
   "source": [
    "To save the files locally, set the parameter `filesave` to true."
   ]
  },
  {
   "cell_type": "code",
   "execution_count": 22,
   "metadata": {},
   "outputs": [
    {
     "name": "stdout",
     "output_type": "stream",
     "text": [
      "Querying RCSB Search using the following parameters:\n",
      " {\"query\": {\"type\": \"terminal\", \"service\": \"full_text\", \"parameters\": {\"value\": \"7U6Q\"}}, \"request_options\": {\"return_all_hits\": true}, \"return_type\": \"entry\"} \n",
      "\n",
      "Structure available on defaulted database: pdb\n",
      "Sending GET request to https://files.rcsb.org/download/7U6Q.pdb.gz to fetch 7U6Q's pdb file as a string.\n"
     ]
    }
   ],
   "source": [
    "PDB = fetcher.get_file(ONLY_PDB, filesave = True)"
   ]
  },
  {
   "cell_type": "markdown",
   "metadata": {},
   "source": [
    "The fetcher can also print the search history performed. Each time one protein was searched (and found in a database), it caches the information."
   ]
  },
  {
   "cell_type": "code",
   "execution_count": 24,
   "metadata": {},
   "outputs": [
    {
     "data": {
      "text/plain": [
       "{'7U6Q': ['pdb'], 'F4HvG8': ['alphafold'], 'A0A023FDY8': ['pdb', 'alphafold']}"
      ]
     },
     "execution_count": 24,
     "metadata": {},
     "output_type": "execute_result"
    }
   ],
   "source": [
    "fetcher.search_history()"
   ]
  },
  {
   "cell_type": "code",
   "execution_count": null,
   "metadata": {},
   "outputs": [],
   "source": []
  }
 ],
 "metadata": {
  "kernelspec": {
   "display_name": "Python 3 (ipykernel)",
   "language": "python",
   "name": "python3"
  },
  "language_info": {
   "codemirror_mode": {
    "name": "ipython",
    "version": 3
   },
   "file_extension": ".py",
   "mimetype": "text/x-python",
   "name": "python",
   "nbconvert_exporter": "python",
   "pygments_lexer": "ipython3",
   "version": "3.12.3"
  }
 },
 "nbformat": 4,
 "nbformat_minor": 2
}
